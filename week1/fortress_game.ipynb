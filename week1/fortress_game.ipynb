{
 "cells": [
  {
   "cell_type": "code",
   "execution_count": 35,
   "id": "0574689b",
   "metadata": {},
   "outputs": [
    {
     "name": "stderr",
     "output_type": "stream",
     "text": [
      "C:\\Users\\hahi1\\AppData\\Local\\Temp\\ipykernel_23808\\4197766018.py:16: DeprecationWarning: ANTIALIAS is deprecated and will be removed in Pillow 10 (2023-07-01). Use Resampling.LANCZOS instead.\n",
      "  img = img.resize((80,80), Image.ANTIALIAS)\n"
     ]
    }
   ],
   "source": [
    "from tkinter import *\n",
    "from PIL import Image, ImageTk\n",
    "win = Tk()\n",
    "win.geometry(\"500x500\")\n",
    "win.title(\"Game\")\n",
    "win['bg'] = \"white\"\n",
    "\n",
    "\n",
    "cvs = Canvas(win)\n",
    "cvs.config(width=500, height=500, bd=0, highlightthickness=0)\n",
    "\n",
    "p1 = (100,400)\n",
    "\n",
    "\n",
    "img = Image.open(\"C:/Users/hahi1/canon1.png\")\n",
    "img = img.resize((80,80), Image.ANTIALIAS)\n",
    "img = ImageTk.PhotoImage(img, master = win)\n",
    "cvs.create_image(p1, image = img)\n",
    "cvs.pack()\n",
    "\n",
    "win.mainloop()"
   ]
  }
 ],
 "metadata": {
  "kernelspec": {
   "display_name": "Python 3 (ipykernel)",
   "language": "python",
   "name": "python3"
  },
  "language_info": {
   "codemirror_mode": {
    "name": "ipython",
    "version": 3
   },
   "file_extension": ".py",
   "mimetype": "text/x-python",
   "name": "python",
   "nbconvert_exporter": "python",
   "pygments_lexer": "ipython3",
   "version": "3.9.13"
  }
 },
 "nbformat": 4,
 "nbformat_minor": 5
}
